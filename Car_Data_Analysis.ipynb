{
 "cells": [
  {
   "cell_type": "markdown",
   "metadata": {},
   "source": [
    "## Sprint-5, Challenge"
   ]
  },
  {
   "cell_type": "markdown",
   "metadata": {},
   "source": [
    "### Car Blue Motors - Manufacturing Problem "
   ]
  },
  {
   "cell_type": "markdown",
   "metadata": {},
   "source": [
    "##### Reading the file and understanding the data"
   ]
  },
  {
   "cell_type": "code",
   "execution_count": 31,
   "metadata": {},
   "outputs": [
    {
     "data": {
      "text/html": [
       "<div>\n",
       "<style scoped>\n",
       "    .dataframe tbody tr th:only-of-type {\n",
       "        vertical-align: middle;\n",
       "    }\n",
       "\n",
       "    .dataframe tbody tr th {\n",
       "        vertical-align: top;\n",
       "    }\n",
       "\n",
       "    .dataframe thead th {\n",
       "        text-align: right;\n",
       "    }\n",
       "</style>\n",
       "<table border=\"1\" class=\"dataframe\">\n",
       "  <thead>\n",
       "    <tr style=\"text-align: right;\">\n",
       "      <th></th>\n",
       "      <th>year</th>\n",
       "      <th>make</th>\n",
       "      <th>model</th>\n",
       "      <th>trim</th>\n",
       "      <th>body</th>\n",
       "      <th>transmission</th>\n",
       "      <th>vin</th>\n",
       "      <th>state</th>\n",
       "      <th>condition</th>\n",
       "      <th>odometer</th>\n",
       "      <th>color</th>\n",
       "      <th>interior</th>\n",
       "      <th>seller</th>\n",
       "      <th>mmr</th>\n",
       "      <th>sellingprice</th>\n",
       "      <th>saledate</th>\n",
       "    </tr>\n",
       "  </thead>\n",
       "  <tbody>\n",
       "    <tr>\n",
       "      <th>0</th>\n",
       "      <td>2002</td>\n",
       "      <td>Ford</td>\n",
       "      <td>F-350 Super Duty</td>\n",
       "      <td>XLT</td>\n",
       "      <td>Crew Cab</td>\n",
       "      <td>NaN</td>\n",
       "      <td>1ftsw31f52ed16477</td>\n",
       "      <td>ca</td>\n",
       "      <td>2.0</td>\n",
       "      <td>NaN</td>\n",
       "      <td>white</td>\n",
       "      <td>gray</td>\n",
       "      <td>laa leasing</td>\n",
       "      <td>7850</td>\n",
       "      <td>1</td>\n",
       "      <td>Thu Feb 05 2015 04:00:00 GMT-0800 (PST)</td>\n",
       "    </tr>\n",
       "    <tr>\n",
       "      <th>1</th>\n",
       "      <td>2003</td>\n",
       "      <td>Mercedes-Benz</td>\n",
       "      <td>E-Class</td>\n",
       "      <td>E500</td>\n",
       "      <td>Sedan</td>\n",
       "      <td>automatic</td>\n",
       "      <td>wdbuf70j73a269529</td>\n",
       "      <td>ga</td>\n",
       "      <td>2.1</td>\n",
       "      <td>1.0</td>\n",
       "      <td>black</td>\n",
       "      <td>black</td>\n",
       "      <td>peoples credit company inc</td>\n",
       "      <td>7325</td>\n",
       "      <td>1</td>\n",
       "      <td>Tue Jan 06 2015 09:30:00 GMT-0800 (PST)</td>\n",
       "    </tr>\n",
       "    <tr>\n",
       "      <th>2</th>\n",
       "      <td>2014</td>\n",
       "      <td>Ford</td>\n",
       "      <td>E-Series Van</td>\n",
       "      <td>E-250</td>\n",
       "      <td>E-Series Van</td>\n",
       "      <td>automatic</td>\n",
       "      <td>1ftne2ew6eda13643</td>\n",
       "      <td>tx</td>\n",
       "      <td>4.1</td>\n",
       "      <td>31886.0</td>\n",
       "      <td>white</td>\n",
       "      <td>gray</td>\n",
       "      <td>u-haul</td>\n",
       "      <td>20800</td>\n",
       "      <td>1</td>\n",
       "      <td>Thu Feb 12 2015 03:00:00 GMT-0800 (PST)</td>\n",
       "    </tr>\n",
       "  </tbody>\n",
       "</table>\n",
       "</div>"
      ],
      "text/plain": [
       "   year           make             model   trim          body transmission  \\\n",
       "0  2002           Ford  F-350 Super Duty    XLT      Crew Cab          NaN   \n",
       "1  2003  Mercedes-Benz           E-Class   E500         Sedan    automatic   \n",
       "2  2014           Ford      E-Series Van  E-250  E-Series Van    automatic   \n",
       "\n",
       "                 vin state  condition  odometer  color interior  \\\n",
       "0  1ftsw31f52ed16477    ca        2.0       NaN  white     gray   \n",
       "1  wdbuf70j73a269529    ga        2.1       1.0  black    black   \n",
       "2  1ftne2ew6eda13643    tx        4.1   31886.0  white     gray   \n",
       "\n",
       "                       seller    mmr  sellingprice  \\\n",
       "0                 laa leasing   7850             1   \n",
       "1  peoples credit company inc   7325             1   \n",
       "2                      u-haul  20800             1   \n",
       "\n",
       "                                  saledate  \n",
       "0  Thu Feb 05 2015 04:00:00 GMT-0800 (PST)  \n",
       "1  Tue Jan 06 2015 09:30:00 GMT-0800 (PST)  \n",
       "2  Thu Feb 12 2015 03:00:00 GMT-0800 (PST)  "
      ]
     },
     "execution_count": 31,
     "metadata": {},
     "output_type": "execute_result"
    }
   ],
   "source": [
    "#Reading CSV file\n",
    "import numpy as np\n",
    "import pandas as pd\n",
    "df = pd.read_csv(\"car_prices.csv\")\n",
    "df.head(3)"
   ]
  },
  {
   "cell_type": "code",
   "execution_count": 32,
   "metadata": {},
   "outputs": [
    {
     "name": "stdout",
     "output_type": "stream",
     "text": [
      "<class 'pandas.core.frame.DataFrame'>\n",
      "RangeIndex: 558837 entries, 0 to 558836\n",
      "Data columns (total 16 columns):\n",
      " #   Column        Non-Null Count   Dtype  \n",
      "---  ------        --------------   -----  \n",
      " 0   year          558837 non-null  int64  \n",
      " 1   make          548536 non-null  object \n",
      " 2   model         548438 non-null  object \n",
      " 3   trim          548186 non-null  object \n",
      " 4   body          545642 non-null  object \n",
      " 5   transmission  493484 non-null  object \n",
      " 6   vin           558833 non-null  object \n",
      " 7   state         558836 non-null  object \n",
      " 8   condition     547043 non-null  float64\n",
      " 9   odometer      558743 non-null  float64\n",
      " 10  color         558088 non-null  object \n",
      " 11  interior      558088 non-null  object \n",
      " 12  seller        558837 non-null  object \n",
      " 13  mmr           558837 non-null  int64  \n",
      " 14  sellingprice  558837 non-null  int64  \n",
      " 15  saledate      558812 non-null  object \n",
      "dtypes: float64(2), int64(3), object(11)\n",
      "memory usage: 68.2+ MB\n"
     ]
    }
   ],
   "source": [
    "df.info()"
   ]
  },
  {
   "cell_type": "code",
   "execution_count": 33,
   "metadata": {},
   "outputs": [
    {
     "data": {
      "text/plain": [
       "year                0\n",
       "make            10301\n",
       "model           10399\n",
       "trim            10651\n",
       "body            13195\n",
       "transmission    65353\n",
       "vin                 4\n",
       "state               1\n",
       "condition       11794\n",
       "odometer           94\n",
       "color             749\n",
       "interior          749\n",
       "seller              0\n",
       "mmr                 0\n",
       "sellingprice        0\n",
       "saledate           25\n",
       "dtype: int64"
      ]
     },
     "execution_count": 33,
     "metadata": {},
     "output_type": "execute_result"
    }
   ],
   "source": [
    "#df.shape\n",
    "#df.describe()\n",
    "#df.columns\n",
    "df.isnull().sum()"
   ]
  },
  {
   "cell_type": "code",
   "execution_count": 34,
   "metadata": {},
   "outputs": [
    {
     "data": {
      "text/html": [
       "<div>\n",
       "<style scoped>\n",
       "    .dataframe tbody tr th:only-of-type {\n",
       "        vertical-align: middle;\n",
       "    }\n",
       "\n",
       "    .dataframe tbody tr th {\n",
       "        vertical-align: top;\n",
       "    }\n",
       "\n",
       "    .dataframe thead th {\n",
       "        text-align: right;\n",
       "    }\n",
       "</style>\n",
       "<table border=\"1\" class=\"dataframe\">\n",
       "  <thead>\n",
       "    <tr style=\"text-align: right;\">\n",
       "      <th></th>\n",
       "      <th>year</th>\n",
       "      <th>make</th>\n",
       "      <th>model</th>\n",
       "      <th>trim</th>\n",
       "      <th>body</th>\n",
       "      <th>transmission</th>\n",
       "      <th>vin</th>\n",
       "      <th>state</th>\n",
       "      <th>condition</th>\n",
       "      <th>odometer</th>\n",
       "      <th>color</th>\n",
       "      <th>interior</th>\n",
       "      <th>seller</th>\n",
       "      <th>mmr</th>\n",
       "      <th>sellingprice</th>\n",
       "      <th>saledate</th>\n",
       "    </tr>\n",
       "  </thead>\n",
       "  <tbody>\n",
       "    <tr>\n",
       "      <th>558835</th>\n",
       "      <td>2011</td>\n",
       "      <td>Ferrari</td>\n",
       "      <td>458 Italia</td>\n",
       "      <td>Base</td>\n",
       "      <td>coupe</td>\n",
       "      <td>automatic</td>\n",
       "      <td>zff67nfa1b0178698</td>\n",
       "      <td>fl</td>\n",
       "      <td>4.6</td>\n",
       "      <td>12116.0</td>\n",
       "      <td>red</td>\n",
       "      <td>black</td>\n",
       "      <td>platinum motor cars</td>\n",
       "      <td>182000</td>\n",
       "      <td>183000</td>\n",
       "      <td>Wed Jun 17 2015 03:40:00 GMT-0700 (PDT)</td>\n",
       "    </tr>\n",
       "    <tr>\n",
       "      <th>558836</th>\n",
       "      <td>2014</td>\n",
       "      <td>Ford</td>\n",
       "      <td>Escape</td>\n",
       "      <td>Titanium</td>\n",
       "      <td>SUV</td>\n",
       "      <td>automatic</td>\n",
       "      <td>1fmcu9j98eua23833</td>\n",
       "      <td>mo</td>\n",
       "      <td>4.3</td>\n",
       "      <td>27802.0</td>\n",
       "      <td>green</td>\n",
       "      <td>tan</td>\n",
       "      <td>ford-lincoln dealer program</td>\n",
       "      <td>22800</td>\n",
       "      <td>230000</td>\n",
       "      <td>Wed Feb 25 2015 02:00:00 GMT-0800 (PST)</td>\n",
       "    </tr>\n",
       "  </tbody>\n",
       "</table>\n",
       "</div>"
      ],
      "text/plain": [
       "        year     make       model      trim   body transmission  \\\n",
       "558835  2011  Ferrari  458 Italia      Base  coupe    automatic   \n",
       "558836  2014     Ford      Escape  Titanium    SUV    automatic   \n",
       "\n",
       "                      vin state  condition  odometer  color interior  \\\n",
       "558835  zff67nfa1b0178698    fl        4.6   12116.0    red    black   \n",
       "558836  1fmcu9j98eua23833    mo        4.3   27802.0  green      tan   \n",
       "\n",
       "                             seller     mmr  sellingprice  \\\n",
       "558835          platinum motor cars  182000        183000   \n",
       "558836  ford-lincoln dealer program   22800        230000   \n",
       "\n",
       "                                       saledate  \n",
       "558835  Wed Jun 17 2015 03:40:00 GMT-0700 (PDT)  \n",
       "558836  Wed Feb 25 2015 02:00:00 GMT-0800 (PST)  "
      ]
     },
     "execution_count": 34,
     "metadata": {},
     "output_type": "execute_result"
    }
   ],
   "source": [
    "df.tail(2)"
   ]
  },
  {
   "cell_type": "markdown",
   "metadata": {},
   "source": [
    "### TASK-1"
   ]
  },
  {
   "cell_type": "markdown",
   "metadata": {},
   "source": [
    "To get the Manufacturer name ('make') of top 5 low priced cars(model) in the year 2014"
   ]
  },
  {
   "cell_type": "code",
   "execution_count": 35,
   "metadata": {},
   "outputs": [
    {
     "data": {
      "text/html": [
       "<div>\n",
       "<style scoped>\n",
       "    .dataframe tbody tr th:only-of-type {\n",
       "        vertical-align: middle;\n",
       "    }\n",
       "\n",
       "    .dataframe tbody tr th {\n",
       "        vertical-align: top;\n",
       "    }\n",
       "\n",
       "    .dataframe thead th {\n",
       "        text-align: right;\n",
       "    }\n",
       "</style>\n",
       "<table border=\"1\" class=\"dataframe\">\n",
       "  <thead>\n",
       "    <tr style=\"text-align: right;\">\n",
       "      <th></th>\n",
       "      <th>year</th>\n",
       "      <th>make</th>\n",
       "      <th>model</th>\n",
       "      <th>trim</th>\n",
       "      <th>body</th>\n",
       "      <th>transmission</th>\n",
       "      <th>vin</th>\n",
       "      <th>state</th>\n",
       "      <th>condition</th>\n",
       "      <th>odometer</th>\n",
       "      <th>color</th>\n",
       "      <th>interior</th>\n",
       "      <th>seller</th>\n",
       "      <th>mmr</th>\n",
       "      <th>sellingprice</th>\n",
       "      <th>saledate</th>\n",
       "    </tr>\n",
       "  </thead>\n",
       "  <tbody>\n",
       "    <tr>\n",
       "      <th>2</th>\n",
       "      <td>2014</td>\n",
       "      <td>Ford</td>\n",
       "      <td>E-Series Van</td>\n",
       "      <td>E-250</td>\n",
       "      <td>E-Series Van</td>\n",
       "      <td>automatic</td>\n",
       "      <td>1ftne2ew6eda13643</td>\n",
       "      <td>tx</td>\n",
       "      <td>4.1</td>\n",
       "      <td>31886.0</td>\n",
       "      <td>white</td>\n",
       "      <td>gray</td>\n",
       "      <td>u-haul</td>\n",
       "      <td>20800</td>\n",
       "      <td>1</td>\n",
       "      <td>Thu Feb 12 2015 03:00:00 GMT-0800 (PST)</td>\n",
       "    </tr>\n",
       "    <tr>\n",
       "      <th>6085</th>\n",
       "      <td>2014</td>\n",
       "      <td>Chrysler</td>\n",
       "      <td>200</td>\n",
       "      <td>LX</td>\n",
       "      <td>Sedan</td>\n",
       "      <td>automatic</td>\n",
       "      <td>1c3ccbab7en125253</td>\n",
       "      <td>ca</td>\n",
       "      <td>1.0</td>\n",
       "      <td>16973.0</td>\n",
       "      <td>white</td>\n",
       "      <td>black</td>\n",
       "      <td>enterprise vehicle exchange / tra / rental / t...</td>\n",
       "      <td>11800</td>\n",
       "      <td>500</td>\n",
       "      <td>Thu Jan 22 2015 04:30:00 GMT-0800 (PST)</td>\n",
       "    </tr>\n",
       "    <tr>\n",
       "      <th>11475</th>\n",
       "      <td>2014</td>\n",
       "      <td>Ford</td>\n",
       "      <td>Escape</td>\n",
       "      <td>Titanium</td>\n",
       "      <td>SUV</td>\n",
       "      <td>automatic</td>\n",
       "      <td>1fmcu9j94eua96505</td>\n",
       "      <td>nj</td>\n",
       "      <td>4.4</td>\n",
       "      <td>20074.0</td>\n",
       "      <td>red</td>\n",
       "      <td>black</td>\n",
       "      <td>ford motor credit company,llc</td>\n",
       "      <td>24600</td>\n",
       "      <td>750</td>\n",
       "      <td>Wed Apr 08 2015 02:00:00 GMT-0700 (PDT)</td>\n",
       "    </tr>\n",
       "    <tr>\n",
       "      <th>16630</th>\n",
       "      <td>2014</td>\n",
       "      <td>Hyundai</td>\n",
       "      <td>Elantra GT</td>\n",
       "      <td>Base</td>\n",
       "      <td>Hatchback</td>\n",
       "      <td>automatic</td>\n",
       "      <td>kmhd35lh9eu165404</td>\n",
       "      <td>in</td>\n",
       "      <td>2.0</td>\n",
       "      <td>1.0</td>\n",
       "      <td>red</td>\n",
       "      <td>black</td>\n",
       "      <td>enterprise vehicle exchange / tra / rental / t...</td>\n",
       "      <td>15300</td>\n",
       "      <td>1000</td>\n",
       "      <td>Wed Jan 21 2015 04:59:00 GMT-0800 (PST)</td>\n",
       "    </tr>\n",
       "    <tr>\n",
       "      <th>16631</th>\n",
       "      <td>2014</td>\n",
       "      <td>Nissan</td>\n",
       "      <td>Versa</td>\n",
       "      <td>1.6 SV</td>\n",
       "      <td>Sedan</td>\n",
       "      <td>automatic</td>\n",
       "      <td>3n1cn7ap1el855595</td>\n",
       "      <td>il</td>\n",
       "      <td>1.9</td>\n",
       "      <td>15091.0</td>\n",
       "      <td>gray</td>\n",
       "      <td>black</td>\n",
       "      <td>nissan motor acceptance corporation</td>\n",
       "      <td>9700</td>\n",
       "      <td>1000</td>\n",
       "      <td>Thu Jan 22 2015 02:00:00 GMT-0800 (PST)</td>\n",
       "    </tr>\n",
       "  </tbody>\n",
       "</table>\n",
       "</div>"
      ],
      "text/plain": [
       "       year      make         model      trim          body transmission  \\\n",
       "2      2014      Ford  E-Series Van     E-250  E-Series Van    automatic   \n",
       "6085   2014  Chrysler           200        LX         Sedan    automatic   \n",
       "11475  2014      Ford        Escape  Titanium           SUV    automatic   \n",
       "16630  2014   Hyundai    Elantra GT      Base     Hatchback    automatic   \n",
       "16631  2014    Nissan         Versa    1.6 SV         Sedan    automatic   \n",
       "\n",
       "                     vin state  condition  odometer  color interior  \\\n",
       "2      1ftne2ew6eda13643    tx        4.1   31886.0  white     gray   \n",
       "6085   1c3ccbab7en125253    ca        1.0   16973.0  white    black   \n",
       "11475  1fmcu9j94eua96505    nj        4.4   20074.0    red    black   \n",
       "16630  kmhd35lh9eu165404    in        2.0       1.0    red    black   \n",
       "16631  3n1cn7ap1el855595    il        1.9   15091.0   gray    black   \n",
       "\n",
       "                                                  seller    mmr  sellingprice  \\\n",
       "2                                                 u-haul  20800             1   \n",
       "6085   enterprise vehicle exchange / tra / rental / t...  11800           500   \n",
       "11475                      ford motor credit company,llc  24600           750   \n",
       "16630  enterprise vehicle exchange / tra / rental / t...  15300          1000   \n",
       "16631                nissan motor acceptance corporation   9700          1000   \n",
       "\n",
       "                                      saledate  \n",
       "2      Thu Feb 12 2015 03:00:00 GMT-0800 (PST)  \n",
       "6085   Thu Jan 22 2015 04:30:00 GMT-0800 (PST)  \n",
       "11475  Wed Apr 08 2015 02:00:00 GMT-0700 (PDT)  \n",
       "16630  Wed Jan 21 2015 04:59:00 GMT-0800 (PST)  \n",
       "16631  Thu Jan 22 2015 02:00:00 GMT-0800 (PST)  "
      ]
     },
     "execution_count": 35,
     "metadata": {},
     "output_type": "execute_result"
    }
   ],
   "source": [
    "#To get the details of cars in the year 2014\n",
    "cars_from_2014 = df[df.year == 2014]\n",
    "cars_from_2014.head(5)"
   ]
  },
  {
   "cell_type": "code",
   "execution_count": 36,
   "metadata": {},
   "outputs": [
    {
     "name": "stdout",
     "output_type": "stream",
     "text": [
      "Below are the top 5 low priced car manufacturers in the year 2014\n"
     ]
    },
    {
     "data": {
      "text/html": [
       "<div>\n",
       "<style scoped>\n",
       "    .dataframe tbody tr th:only-of-type {\n",
       "        vertical-align: middle;\n",
       "    }\n",
       "\n",
       "    .dataframe tbody tr th {\n",
       "        vertical-align: top;\n",
       "    }\n",
       "\n",
       "    .dataframe thead th {\n",
       "        text-align: right;\n",
       "    }\n",
       "</style>\n",
       "<table border=\"1\" class=\"dataframe\">\n",
       "  <thead>\n",
       "    <tr style=\"text-align: right;\">\n",
       "      <th></th>\n",
       "      <th>year</th>\n",
       "      <th>make</th>\n",
       "      <th>model</th>\n",
       "      <th>sellingprice</th>\n",
       "    </tr>\n",
       "  </thead>\n",
       "  <tbody>\n",
       "    <tr>\n",
       "      <th>2</th>\n",
       "      <td>2014</td>\n",
       "      <td>Ford</td>\n",
       "      <td>E-Series Van</td>\n",
       "      <td>1</td>\n",
       "    </tr>\n",
       "    <tr>\n",
       "      <th>6085</th>\n",
       "      <td>2014</td>\n",
       "      <td>Chrysler</td>\n",
       "      <td>200</td>\n",
       "      <td>500</td>\n",
       "    </tr>\n",
       "    <tr>\n",
       "      <th>11475</th>\n",
       "      <td>2014</td>\n",
       "      <td>Ford</td>\n",
       "      <td>Escape</td>\n",
       "      <td>750</td>\n",
       "    </tr>\n",
       "    <tr>\n",
       "      <th>16630</th>\n",
       "      <td>2014</td>\n",
       "      <td>Hyundai</td>\n",
       "      <td>Elantra GT</td>\n",
       "      <td>1000</td>\n",
       "    </tr>\n",
       "    <tr>\n",
       "      <th>16631</th>\n",
       "      <td>2014</td>\n",
       "      <td>Nissan</td>\n",
       "      <td>Versa</td>\n",
       "      <td>1000</td>\n",
       "    </tr>\n",
       "  </tbody>\n",
       "</table>\n",
       "</div>"
      ],
      "text/plain": [
       "       year      make         model  sellingprice\n",
       "2      2014      Ford  E-Series Van             1\n",
       "6085   2014  Chrysler           200           500\n",
       "11475  2014      Ford        Escape           750\n",
       "16630  2014   Hyundai    Elantra GT          1000\n",
       "16631  2014    Nissan         Versa          1000"
      ]
     },
     "execution_count": 36,
     "metadata": {},
     "output_type": "execute_result"
    }
   ],
   "source": [
    "#To sort the selling price of the cars to get top 5 low priced car names along with manufacturer\n",
    "print(\"Below are the top 5 low priced car manufacturers in the year 2014\")\n",
    "cars_from_2014.sort_values(by = 'sellingprice', ascending= True)[[\"year\",\"make\",\"model\",\"sellingprice\"]][0:5]"
   ]
  },
  {
   "cell_type": "markdown",
   "metadata": {},
   "source": [
    "### TASK-2"
   ]
  },
  {
   "cell_type": "markdown",
   "metadata": {},
   "source": [
    "To compare the selling price of BMW Cars in 2010 and 2015. \\\n",
    "To check percentage by which average selling price of BMW with good condition ('condition') having more than 4.5 in 2010 is more/less than that of 2015"
   ]
  },
  {
   "cell_type": "code",
   "execution_count": 37,
   "metadata": {},
   "outputs": [
    {
     "data": {
      "text/plain": [
       "(632, 16)"
      ]
     },
     "execution_count": 37,
     "metadata": {},
     "output_type": "execute_result"
    }
   ],
   "source": [
    "#To get the BMW Car details in the 2010\n",
    "BMW_2010_Cars = df[(df.year == 2010)&(df.make == \"BMW\")]\n",
    "BMW_2010_Cars.shape"
   ]
  },
  {
   "cell_type": "code",
   "execution_count": 38,
   "metadata": {},
   "outputs": [
    {
     "data": {
      "text/plain": [
       "(658, 16)"
      ]
     },
     "execution_count": 38,
     "metadata": {},
     "output_type": "execute_result"
    }
   ],
   "source": [
    "#To get the BMW Car details in the 2015\n",
    "BMW_2015_Cars = df[(df.year == 2015)&(df.make == \"BMW\")]\n",
    "BMW_2015_Cars.shape"
   ]
  },
  {
   "cell_type": "code",
   "execution_count": 39,
   "metadata": {},
   "outputs": [
    {
     "name": "stdout",
     "output_type": "stream",
     "text": [
      "Average selling price of BMW Cars in the year 2010 is:  23572.222222222223\n",
      "Average selling price of BMW Cars in the year 2015 is:  42994.68599033816\n"
     ]
    }
   ],
   "source": [
    "#To calculate the average selling price of BMW Cars with 'condition' more than 4.5\n",
    "#2010 BMW Cars:\n",
    "average_BMW_2010 = BMW_2010_Cars[BMW_2010_Cars[\"condition\"] > 4.5][\"sellingprice\"].mean()\n",
    "\n",
    "#2015 BMW Cars:\n",
    "average_BMW_2015 = BMW_2015_Cars[BMW_2015_Cars[\"condition\"] > 4.5][\"sellingprice\"].mean()\n",
    "\n",
    "print(\"Average selling price of BMW Cars in the year 2010 is: \", average_BMW_2010)\n",
    "print(\"Average selling price of BMW Cars in the year 2015 is: \", average_BMW_2015)"
   ]
  },
  {
   "cell_type": "code",
   "execution_count": 40,
   "metadata": {},
   "outputs": [
    {
     "name": "stdout",
     "output_type": "stream",
     "text": [
      "Average selling price of BMW cars(with condition more than 4.5) in the year 2015 is 82.39555687628727 percent more than average selling price BMW cars in the year 2010\n"
     ]
    }
   ],
   "source": [
    "#Average selling price of BMW cars with condition more than 4.5 in 2015 is more than 2010\n",
    "#percentage calculation\n",
    "percentage_BMW = ((average_BMW_2015 - average_BMW_2010)/ average_BMW_2010)* 100\n",
    "print(f\"Average selling price of BMW cars(with condition more than 4.5) in the year 2015 is {percentage_BMW} percent more than average selling price BMW cars in the year 2010\")"
   ]
  },
  {
   "cell_type": "markdown",
   "metadata": {},
   "source": [
    "### TASK-3"
   ]
  },
  {
   "cell_type": "markdown",
   "metadata": {},
   "source": [
    "To check the difference between average wholesale price(mmr) of cars with black and gray interior colors"
   ]
  },
  {
   "cell_type": "code",
   "execution_count": 41,
   "metadata": {},
   "outputs": [
    {
     "name": "stdout",
     "output_type": "stream",
     "text": [
      "Average mmr value of Black interior cars is:  15858.52005549485\n",
      "Average mmr value of Gray interior cars is:  11189.776545228522\n"
     ]
    }
   ],
   "source": [
    "#To get the average mmr price of cars with black interior color\n",
    "average_black_int_cars = df[(df.interior == \"black\")][\"mmr\"].mean()\n",
    "#To get the average mmr price of cars with black interior color\n",
    "average_gray_int_cars = df[(df.interior == \"gray\")][\"mmr\"].mean()\n",
    "\n",
    "print(\"Average mmr value of Black interior cars is: \", average_black_int_cars)\n",
    "print(\"Average mmr value of Gray interior cars is: \", average_gray_int_cars)"
   ]
  },
  {
   "cell_type": "code",
   "execution_count": 42,
   "metadata": {},
   "outputs": [
    {
     "name": "stdout",
     "output_type": "stream",
     "text": [
      "The interior color of the car does impact the wholesale price\n",
      "Cars having Interior color as Black has 4668.743510266328$ difference in Wholesale price than the Gray Interior color cars\n",
      "Black Interior cars are more preffered than the Gray interior Cars\n"
     ]
    }
   ],
   "source": [
    "#Difference \n",
    "diff = average_black_int_cars - average_gray_int_cars\n",
    "\n",
    "print(\"The interior color of the car does impact the wholesale price\")\n",
    "print(f\"Cars having Interior color as Black has {diff}$ difference in Wholesale price than the Gray Interior color cars\")\n",
    "print(\"Black Interior cars are more preffered than the Gray interior Cars\")"
   ]
  },
  {
   "cell_type": "markdown",
   "metadata": {},
   "source": [
    "### TASK-4"
   ]
  },
  {
   "cell_type": "markdown",
   "metadata": {},
   "source": [
    "To get the color-wise total number of each car manufacturer from 2013 to 2015 in order to determine the color of the cars most people use often"
   ]
  },
  {
   "cell_type": "code",
   "execution_count": 43,
   "metadata": {},
   "outputs": [
    {
     "data": {
      "text/plain": [
       "(188675, 16)"
      ]
     },
     "execution_count": 43,
     "metadata": {},
     "output_type": "execute_result"
    }
   ],
   "source": [
    "#Getting all the information of cars from the year 2013 to 2015\n",
    "color_wise_cars = df[(df.year == 2013)|(df.year == 2014)|(df.year == 2015)]\n",
    "color_wise_cars.shape"
   ]
  },
  {
   "cell_type": "code",
   "execution_count": 44,
   "metadata": {},
   "outputs": [
    {
     "data": {
      "text/html": [
       "<div>\n",
       "<style scoped>\n",
       "    .dataframe tbody tr th:only-of-type {\n",
       "        vertical-align: middle;\n",
       "    }\n",
       "\n",
       "    .dataframe tbody tr th {\n",
       "        vertical-align: top;\n",
       "    }\n",
       "\n",
       "    .dataframe thead th {\n",
       "        text-align: right;\n",
       "    }\n",
       "</style>\n",
       "<table border=\"1\" class=\"dataframe\">\n",
       "  <thead>\n",
       "    <tr style=\"text-align: right;\">\n",
       "      <th></th>\n",
       "      <th>color</th>\n",
       "      <th>beige</th>\n",
       "      <th>black</th>\n",
       "      <th>blue</th>\n",
       "      <th>brown</th>\n",
       "      <th>burgundy</th>\n",
       "      <th>charcoal</th>\n",
       "      <th>gold</th>\n",
       "      <th>gray</th>\n",
       "      <th>green</th>\n",
       "      <th>lime</th>\n",
       "      <th>...</th>\n",
       "      <th>orange</th>\n",
       "      <th>pink</th>\n",
       "      <th>purple</th>\n",
       "      <th>red</th>\n",
       "      <th>silver</th>\n",
       "      <th>turquoise</th>\n",
       "      <th>white</th>\n",
       "      <th>yellow</th>\n",
       "      <th>—</th>\n",
       "      <th>Total</th>\n",
       "    </tr>\n",
       "    <tr>\n",
       "      <th>make</th>\n",
       "      <th>year</th>\n",
       "      <th></th>\n",
       "      <th></th>\n",
       "      <th></th>\n",
       "      <th></th>\n",
       "      <th></th>\n",
       "      <th></th>\n",
       "      <th></th>\n",
       "      <th></th>\n",
       "      <th></th>\n",
       "      <th></th>\n",
       "      <th></th>\n",
       "      <th></th>\n",
       "      <th></th>\n",
       "      <th></th>\n",
       "      <th></th>\n",
       "      <th></th>\n",
       "      <th></th>\n",
       "      <th></th>\n",
       "      <th></th>\n",
       "      <th></th>\n",
       "      <th></th>\n",
       "    </tr>\n",
       "  </thead>\n",
       "  <tbody>\n",
       "    <tr>\n",
       "      <th rowspan=\"3\" valign=\"top\">Acura</th>\n",
       "      <th>2013</th>\n",
       "      <td>0</td>\n",
       "      <td>106</td>\n",
       "      <td>10</td>\n",
       "      <td>2</td>\n",
       "      <td>14</td>\n",
       "      <td>2</td>\n",
       "      <td>0</td>\n",
       "      <td>63</td>\n",
       "      <td>0</td>\n",
       "      <td>0</td>\n",
       "      <td>...</td>\n",
       "      <td>0</td>\n",
       "      <td>0</td>\n",
       "      <td>1</td>\n",
       "      <td>7</td>\n",
       "      <td>31</td>\n",
       "      <td>0</td>\n",
       "      <td>52</td>\n",
       "      <td>0</td>\n",
       "      <td>3</td>\n",
       "      <td>293</td>\n",
       "    </tr>\n",
       "    <tr>\n",
       "      <th>2014</th>\n",
       "      <td>0</td>\n",
       "      <td>59</td>\n",
       "      <td>6</td>\n",
       "      <td>3</td>\n",
       "      <td>6</td>\n",
       "      <td>0</td>\n",
       "      <td>0</td>\n",
       "      <td>37</td>\n",
       "      <td>1</td>\n",
       "      <td>0</td>\n",
       "      <td>...</td>\n",
       "      <td>0</td>\n",
       "      <td>0</td>\n",
       "      <td>0</td>\n",
       "      <td>1</td>\n",
       "      <td>28</td>\n",
       "      <td>0</td>\n",
       "      <td>41</td>\n",
       "      <td>0</td>\n",
       "      <td>0</td>\n",
       "      <td>183</td>\n",
       "    </tr>\n",
       "    <tr>\n",
       "      <th>2015</th>\n",
       "      <td>0</td>\n",
       "      <td>5</td>\n",
       "      <td>3</td>\n",
       "      <td>0</td>\n",
       "      <td>0</td>\n",
       "      <td>0</td>\n",
       "      <td>0</td>\n",
       "      <td>7</td>\n",
       "      <td>0</td>\n",
       "      <td>0</td>\n",
       "      <td>...</td>\n",
       "      <td>0</td>\n",
       "      <td>0</td>\n",
       "      <td>0</td>\n",
       "      <td>0</td>\n",
       "      <td>2</td>\n",
       "      <td>0</td>\n",
       "      <td>5</td>\n",
       "      <td>0</td>\n",
       "      <td>0</td>\n",
       "      <td>22</td>\n",
       "    </tr>\n",
       "    <tr>\n",
       "      <th rowspan=\"2\" valign=\"top\">Audi</th>\n",
       "      <th>2013</th>\n",
       "      <td>0</td>\n",
       "      <td>213</td>\n",
       "      <td>61</td>\n",
       "      <td>6</td>\n",
       "      <td>0</td>\n",
       "      <td>0</td>\n",
       "      <td>1</td>\n",
       "      <td>103</td>\n",
       "      <td>0</td>\n",
       "      <td>0</td>\n",
       "      <td>...</td>\n",
       "      <td>0</td>\n",
       "      <td>0</td>\n",
       "      <td>0</td>\n",
       "      <td>19</td>\n",
       "      <td>128</td>\n",
       "      <td>0</td>\n",
       "      <td>143</td>\n",
       "      <td>0</td>\n",
       "      <td>34</td>\n",
       "      <td>708</td>\n",
       "    </tr>\n",
       "    <tr>\n",
       "      <th>2014</th>\n",
       "      <td>2</td>\n",
       "      <td>149</td>\n",
       "      <td>13</td>\n",
       "      <td>4</td>\n",
       "      <td>1</td>\n",
       "      <td>0</td>\n",
       "      <td>0</td>\n",
       "      <td>61</td>\n",
       "      <td>0</td>\n",
       "      <td>0</td>\n",
       "      <td>...</td>\n",
       "      <td>0</td>\n",
       "      <td>0</td>\n",
       "      <td>0</td>\n",
       "      <td>10</td>\n",
       "      <td>40</td>\n",
       "      <td>0</td>\n",
       "      <td>132</td>\n",
       "      <td>0</td>\n",
       "      <td>39</td>\n",
       "      <td>451</td>\n",
       "    </tr>\n",
       "    <tr>\n",
       "      <th>...</th>\n",
       "      <th>...</th>\n",
       "      <td>...</td>\n",
       "      <td>...</td>\n",
       "      <td>...</td>\n",
       "      <td>...</td>\n",
       "      <td>...</td>\n",
       "      <td>...</td>\n",
       "      <td>...</td>\n",
       "      <td>...</td>\n",
       "      <td>...</td>\n",
       "      <td>...</td>\n",
       "      <td>...</td>\n",
       "      <td>...</td>\n",
       "      <td>...</td>\n",
       "      <td>...</td>\n",
       "      <td>...</td>\n",
       "      <td>...</td>\n",
       "      <td>...</td>\n",
       "      <td>...</td>\n",
       "      <td>...</td>\n",
       "      <td>...</td>\n",
       "      <td>...</td>\n",
       "    </tr>\n",
       "    <tr>\n",
       "      <th rowspan=\"2\" valign=\"top\">volkswagen</th>\n",
       "      <th>2013</th>\n",
       "      <td>0</td>\n",
       "      <td>0</td>\n",
       "      <td>1</td>\n",
       "      <td>0</td>\n",
       "      <td>0</td>\n",
       "      <td>0</td>\n",
       "      <td>0</td>\n",
       "      <td>0</td>\n",
       "      <td>0</td>\n",
       "      <td>0</td>\n",
       "      <td>...</td>\n",
       "      <td>0</td>\n",
       "      <td>0</td>\n",
       "      <td>0</td>\n",
       "      <td>0</td>\n",
       "      <td>0</td>\n",
       "      <td>0</td>\n",
       "      <td>0</td>\n",
       "      <td>0</td>\n",
       "      <td>0</td>\n",
       "      <td>1</td>\n",
       "    </tr>\n",
       "    <tr>\n",
       "      <th>2014</th>\n",
       "      <td>0</td>\n",
       "      <td>1</td>\n",
       "      <td>0</td>\n",
       "      <td>0</td>\n",
       "      <td>0</td>\n",
       "      <td>0</td>\n",
       "      <td>0</td>\n",
       "      <td>0</td>\n",
       "      <td>0</td>\n",
       "      <td>0</td>\n",
       "      <td>...</td>\n",
       "      <td>0</td>\n",
       "      <td>0</td>\n",
       "      <td>0</td>\n",
       "      <td>1</td>\n",
       "      <td>0</td>\n",
       "      <td>0</td>\n",
       "      <td>0</td>\n",
       "      <td>0</td>\n",
       "      <td>1</td>\n",
       "      <td>3</td>\n",
       "    </tr>\n",
       "    <tr>\n",
       "      <th rowspan=\"2\" valign=\"top\">vw</th>\n",
       "      <th>2013</th>\n",
       "      <td>0</td>\n",
       "      <td>0</td>\n",
       "      <td>0</td>\n",
       "      <td>0</td>\n",
       "      <td>0</td>\n",
       "      <td>0</td>\n",
       "      <td>0</td>\n",
       "      <td>0</td>\n",
       "      <td>0</td>\n",
       "      <td>0</td>\n",
       "      <td>...</td>\n",
       "      <td>0</td>\n",
       "      <td>0</td>\n",
       "      <td>0</td>\n",
       "      <td>0</td>\n",
       "      <td>0</td>\n",
       "      <td>0</td>\n",
       "      <td>0</td>\n",
       "      <td>0</td>\n",
       "      <td>4</td>\n",
       "      <td>4</td>\n",
       "    </tr>\n",
       "    <tr>\n",
       "      <th>2014</th>\n",
       "      <td>0</td>\n",
       "      <td>1</td>\n",
       "      <td>0</td>\n",
       "      <td>0</td>\n",
       "      <td>0</td>\n",
       "      <td>0</td>\n",
       "      <td>0</td>\n",
       "      <td>1</td>\n",
       "      <td>0</td>\n",
       "      <td>0</td>\n",
       "      <td>...</td>\n",
       "      <td>0</td>\n",
       "      <td>0</td>\n",
       "      <td>0</td>\n",
       "      <td>0</td>\n",
       "      <td>0</td>\n",
       "      <td>0</td>\n",
       "      <td>1</td>\n",
       "      <td>0</td>\n",
       "      <td>6</td>\n",
       "      <td>9</td>\n",
       "    </tr>\n",
       "    <tr>\n",
       "      <th>Total</th>\n",
       "      <th></th>\n",
       "      <td>1686</td>\n",
       "      <td>35563</td>\n",
       "      <td>13744</td>\n",
       "      <td>2672</td>\n",
       "      <td>2486</td>\n",
       "      <td>187</td>\n",
       "      <td>1744</td>\n",
       "      <td>29464</td>\n",
       "      <td>2096</td>\n",
       "      <td>8</td>\n",
       "      <td>...</td>\n",
       "      <td>583</td>\n",
       "      <td>29</td>\n",
       "      <td>397</td>\n",
       "      <td>17230</td>\n",
       "      <td>26143</td>\n",
       "      <td>35</td>\n",
       "      <td>40055</td>\n",
       "      <td>262</td>\n",
       "      <td>12801</td>\n",
       "      <td>187560</td>\n",
       "    </tr>\n",
       "  </tbody>\n",
       "</table>\n",
       "<p>121 rows × 21 columns</p>\n",
       "</div>"
      ],
      "text/plain": [
       "color            beige  black   blue  brown  burgundy  charcoal  gold   gray  \\\n",
       "make       year                                                                \n",
       "Acura      2013      0    106     10      2        14         2     0     63   \n",
       "           2014      0     59      6      3         6         0     0     37   \n",
       "           2015      0      5      3      0         0         0     0      7   \n",
       "Audi       2013      0    213     61      6         0         0     1    103   \n",
       "           2014      2    149     13      4         1         0     0     61   \n",
       "...                ...    ...    ...    ...       ...       ...   ...    ...   \n",
       "volkswagen 2013      0      0      1      0         0         0     0      0   \n",
       "           2014      0      1      0      0         0         0     0      0   \n",
       "vw         2013      0      0      0      0         0         0     0      0   \n",
       "           2014      0      1      0      0         0         0     0      1   \n",
       "Total             1686  35563  13744   2672      2486       187  1744  29464   \n",
       "\n",
       "color            green  lime  ...  orange  pink  purple    red  silver  \\\n",
       "make       year               ...                                        \n",
       "Acura      2013      0     0  ...       0     0       1      7      31   \n",
       "           2014      1     0  ...       0     0       0      1      28   \n",
       "           2015      0     0  ...       0     0       0      0       2   \n",
       "Audi       2013      0     0  ...       0     0       0     19     128   \n",
       "           2014      0     0  ...       0     0       0     10      40   \n",
       "...                ...   ...  ...     ...   ...     ...    ...     ...   \n",
       "volkswagen 2013      0     0  ...       0     0       0      0       0   \n",
       "           2014      0     0  ...       0     0       0      1       0   \n",
       "vw         2013      0     0  ...       0     0       0      0       0   \n",
       "           2014      0     0  ...       0     0       0      0       0   \n",
       "Total             2096     8  ...     583    29     397  17230   26143   \n",
       "\n",
       "color            turquoise  white  yellow      —   Total  \n",
       "make       year                                           \n",
       "Acura      2013          0     52       0      3     293  \n",
       "           2014          0     41       0      0     183  \n",
       "           2015          0      5       0      0      22  \n",
       "Audi       2013          0    143       0     34     708  \n",
       "           2014          0    132       0     39     451  \n",
       "...                    ...    ...     ...    ...     ...  \n",
       "volkswagen 2013          0      0       0      0       1  \n",
       "           2014          0      0       0      1       3  \n",
       "vw         2013          0      0       0      4       4  \n",
       "           2014          0      1       0      6       9  \n",
       "Total                   35  40055     262  12801  187560  \n",
       "\n",
       "[121 rows x 21 columns]"
      ]
     },
     "execution_count": 44,
     "metadata": {},
     "output_type": "execute_result"
    }
   ],
   "source": [
    "#Using the cross-tab\n",
    "colortab_calculation = pd.crosstab([color_wise_cars.make ,color_wise_cars.year], color_wise_cars.color, dropna= True, margins= True, margins_name= \"Total\")\n",
    "colortab_calculation"
   ]
  },
  {
   "cell_type": "code",
   "execution_count": 45,
   "metadata": {},
   "outputs": [
    {
     "data": {
      "text/html": [
       "<div>\n",
       "<style scoped>\n",
       "    .dataframe tbody tr th:only-of-type {\n",
       "        vertical-align: middle;\n",
       "    }\n",
       "\n",
       "    .dataframe tbody tr th {\n",
       "        vertical-align: top;\n",
       "    }\n",
       "\n",
       "    .dataframe thead th {\n",
       "        text-align: right;\n",
       "    }\n",
       "</style>\n",
       "<table border=\"1\" class=\"dataframe\">\n",
       "  <thead>\n",
       "    <tr style=\"text-align: right;\">\n",
       "      <th>year</th>\n",
       "      <th></th>\n",
       "    </tr>\n",
       "    <tr>\n",
       "      <th>color</th>\n",
       "      <th></th>\n",
       "    </tr>\n",
       "  </thead>\n",
       "  <tbody>\n",
       "    <tr>\n",
       "      <th>Total</th>\n",
       "      <td>187560</td>\n",
       "    </tr>\n",
       "    <tr>\n",
       "      <th>white</th>\n",
       "      <td>40055</td>\n",
       "    </tr>\n",
       "  </tbody>\n",
       "</table>\n",
       "</div>"
      ],
      "text/plain": [
       "year         \n",
       "color        \n",
       "Total  187560\n",
       "white   40055"
      ]
     },
     "execution_count": 45,
     "metadata": {},
     "output_type": "execute_result"
    }
   ],
   "source": [
    "colortab_calculation.loc['Total', :].T.sort_values(by = \"\", ascending= False)[0:2]"
   ]
  },
  {
   "cell_type": "markdown",
   "metadata": {},
   "source": [
    "White cars are used the most in year from 2013 to 2015"
   ]
  },
  {
   "cell_type": "markdown",
   "metadata": {},
   "source": [
    "### TASK-5"
   ]
  },
  {
   "cell_type": "markdown",
   "metadata": {},
   "source": [
    "To count the number of Sales done of SUV bodied cars on 'Fri Dec 19, 2014, 09:00:00 GMT-0800 (PST)' and on 'Thu Jan 15, 2015, 04:30:00 GMT-0800 (PST)' \\\n",
    "And also to find the percentage by which the sale of cars with SUV body has incresed/decreased during that period"
   ]
  },
  {
   "cell_type": "code",
   "execution_count": 46,
   "metadata": {},
   "outputs": [
    {
     "name": "stdout",
     "output_type": "stream",
     "text": [
      "Count of sold SUV Bodied Cars on Fri Dec 19 2014 09:00:00 GMT-0800 (PST) is:  569\n"
     ]
    }
   ],
   "source": [
    "#To get the details of SUV bodied Cars sold on 'Fri Dec 19 2014 09:00:00 GMT-0800 (PST)'\n",
    "car_sale_data1 = df[(df.body == 'SUV')& (df.saledate == 'Fri Dec 19 2014 09:00:00 GMT-0800 (PST)')]\n",
    "car_sale_count1 = car_sale_data1.shape[0]\n",
    "print(\"Count of sold SUV Bodied Cars on Fri Dec 19 2014 09:00:00 GMT-0800 (PST) is: \", car_sale_count1)"
   ]
  },
  {
   "cell_type": "code",
   "execution_count": 47,
   "metadata": {},
   "outputs": [
    {
     "name": "stdout",
     "output_type": "stream",
     "text": [
      "Count of sold SUV Bodied Cars on Thu Jan 15 2015 04:30:00 GMT-0800 (PST) is:  310\n"
     ]
    }
   ],
   "source": [
    "#To get the details of SUV bodied Cars sold on 'Thu Jan 15 2015 04:30:00 GMT-0800 (PST)'\n",
    "car_sale_data2 = df[(df.body == 'SUV')& (df.saledate == 'Thu Jan 15 2015 04:30:00 GMT-0800 (PST)')]\n",
    "car_sale_count2 = car_sale_data2.shape[0]\n",
    "print(\"Count of sold SUV Bodied Cars on Thu Jan 15 2015 04:30:00 GMT-0800 (PST) is: \", car_sale_count2)"
   ]
  },
  {
   "cell_type": "markdown",
   "metadata": {},
   "source": [
    "We can see from this that the sales of Cars with SUV body was more on Fri Dec 19 2014 09:00:00 GMT-0800 (PST) than on Thu Jan 15 2015 04:30:00 GMT-0800 (PST)"
   ]
  },
  {
   "cell_type": "code",
   "execution_count": 48,
   "metadata": {},
   "outputs": [
    {
     "name": "stdout",
     "output_type": "stream",
     "text": [
      "Sales on Fri Dec 19 2014 09:00:00 GMT-0800 (PST) was more by 83.54838709677419 percent more than sales on Thu Jan 15 2015 04:30:00 GMT-0800 (PST)\n"
     ]
    }
   ],
   "source": [
    "#To calculate the percentage:\n",
    "percentage_SUV_sales = ((car_sale_count1 - car_sale_count2)/car_sale_count2)*100\n",
    "print(f\"Sales on Fri Dec 19 2014 09:00:00 GMT-0800 (PST) was more by {percentage_SUV_sales} percent more than sales on Thu Jan 15 2015 04:30:00 GMT-0800 (PST)\")"
   ]
  },
  {
   "cell_type": "markdown",
   "metadata": {},
   "source": [
    "### TASK-6"
   ]
  },
  {
   "cell_type": "markdown",
   "metadata": {},
   "source": [
    "To add new column of discount price on cars \\\n",
    "conditions: \n",
    "* For 'Ford' and 'Chevrolet'  - 10% Discount\n",
    "* For other cars - 20% Discount"
   ]
  },
  {
   "cell_type": "code",
   "execution_count": 49,
   "metadata": {},
   "outputs": [],
   "source": [
    "#adding a empty column called Discount Price\n",
    "df[\"Discount Price\"] = np.nan"
   ]
  },
  {
   "cell_type": "code",
   "execution_count": 50,
   "metadata": {},
   "outputs": [
    {
     "data": {
      "text/plain": [
       "Int64Index([     0,      2,      5,     13,     18,     20,     21,     40,\n",
       "                45,     50,\n",
       "            ...\n",
       "            557601, 557609, 557617, 557809, 558003, 558474, 558482, 558553,\n",
       "            558721, 558836],\n",
       "           dtype='int64', length=153751)"
      ]
     },
     "execution_count": 50,
     "metadata": {},
     "output_type": "execute_result"
    }
   ],
   "source": [
    "#Storing the index of ford and chevrolet car data\n",
    "c_index = df[(df.make == 'Ford')|(df.make == 'Chevrolet')].index\n",
    "c_index"
   ]
  },
  {
   "cell_type": "code",
   "execution_count": 51,
   "metadata": {},
   "outputs": [
    {
     "data": {
      "text/plain": [
       "Int64Index([     1,      3,      4,      6,      7,      8,      9,     10,\n",
       "                11,     12,\n",
       "            ...\n",
       "            558826, 558827, 558828, 558829, 558830, 558831, 558832, 558833,\n",
       "            558834, 558835],\n",
       "           dtype='int64', length=405086)"
      ]
     },
     "execution_count": 51,
     "metadata": {},
     "output_type": "execute_result"
    }
   ],
   "source": [
    "#Storing all the other car index\n",
    "other_index = df[(df.make != 'Ford')&(df.make != 'Chevrolet')].index\n",
    "other_index"
   ]
  },
  {
   "cell_type": "code",
   "execution_count": 52,
   "metadata": {},
   "outputs": [
    {
     "data": {
      "text/plain": [
       "0              0.9\n",
       "2              0.9\n",
       "5             90.0\n",
       "13            90.0\n",
       "18            90.0\n",
       "            ...   \n",
       "558474     75825.0\n",
       "558482     76050.0\n",
       "558553     79425.0\n",
       "558721     97380.0\n",
       "558836    207000.0\n",
       "Name: Discount Price, Length: 153751, dtype: float64"
      ]
     },
     "execution_count": 52,
     "metadata": {},
     "output_type": "execute_result"
    }
   ],
   "source": [
    "#Updating the 10% discount values to the Ford and Chevrolet cars from the index location 'c_index'\n",
    "# df[\"Discount Price\"].iloc[c_index] = df[\"Discount Price\"].iloc[c_index].fillna(value = {0: (0.9* df.sellingprice)}, axis= 0)\n",
    "# df[\"Discount Price\"].iloc[c_index]\n",
    "df.at[c_index, 'Discount Price'] = df.sellingprice - (0.1 * df.sellingprice)  # DataFrame.at()--> we can updated new values in a given column at a provided index value\n",
    "df.loc[c_index][\"Discount Price\"]      #only the index value of Ford and Chevrolet is updated"
   ]
  },
  {
   "cell_type": "code",
   "execution_count": 53,
   "metadata": {},
   "outputs": [
    {
     "data": {
      "text/plain": [
       "1              0.8\n",
       "3              0.8\n",
       "4             80.0\n",
       "6             80.0\n",
       "7             80.0\n",
       "            ...   \n",
       "558831    135200.0\n",
       "558832    135600.0\n",
       "558833    137200.0\n",
       "558834    138400.0\n",
       "558835    146400.0\n",
       "Name: Discount Price, Length: 405086, dtype: float64"
      ]
     },
     "execution_count": 53,
     "metadata": {},
     "output_type": "execute_result"
    }
   ],
   "source": [
    "#Updating the 20% discount values to all the remaining cars from the index location 'other_index'\n",
    "df.at[other_index, 'Discount Price'] = df.sellingprice - (0.2 * df.sellingprice)\n",
    "df.loc[other_index][\"Discount Price\"]"
   ]
  },
  {
   "cell_type": "code",
   "execution_count": 54,
   "metadata": {},
   "outputs": [
    {
     "name": "stdout",
     "output_type": "stream",
     "text": [
      "We can check from the below sample data that Ford and Chevrolet are updated with 10% discount value and all others are updated with 20% discout on car values\n"
     ]
    },
    {
     "data": {
      "text/html": [
       "<div>\n",
       "<style scoped>\n",
       "    .dataframe tbody tr th:only-of-type {\n",
       "        vertical-align: middle;\n",
       "    }\n",
       "\n",
       "    .dataframe tbody tr th {\n",
       "        vertical-align: top;\n",
       "    }\n",
       "\n",
       "    .dataframe thead th {\n",
       "        text-align: right;\n",
       "    }\n",
       "</style>\n",
       "<table border=\"1\" class=\"dataframe\">\n",
       "  <thead>\n",
       "    <tr style=\"text-align: right;\">\n",
       "      <th></th>\n",
       "      <th>make</th>\n",
       "      <th>sellingprice</th>\n",
       "      <th>Discount Price</th>\n",
       "    </tr>\n",
       "  </thead>\n",
       "  <tbody>\n",
       "    <tr>\n",
       "      <th>105773</th>\n",
       "      <td>Toyota</td>\n",
       "      <td>5100</td>\n",
       "      <td>4080.0</td>\n",
       "    </tr>\n",
       "    <tr>\n",
       "      <th>523485</th>\n",
       "      <td>Ram</td>\n",
       "      <td>28800</td>\n",
       "      <td>23040.0</td>\n",
       "    </tr>\n",
       "    <tr>\n",
       "      <th>470550</th>\n",
       "      <td>Kia</td>\n",
       "      <td>22000</td>\n",
       "      <td>17600.0</td>\n",
       "    </tr>\n",
       "    <tr>\n",
       "      <th>404687</th>\n",
       "      <td>Lexus</td>\n",
       "      <td>17400</td>\n",
       "      <td>13920.0</td>\n",
       "    </tr>\n",
       "    <tr>\n",
       "      <th>160777</th>\n",
       "      <td>Nissan</td>\n",
       "      <td>7900</td>\n",
       "      <td>6320.0</td>\n",
       "    </tr>\n",
       "    <tr>\n",
       "      <th>175980</th>\n",
       "      <td>Chevrolet</td>\n",
       "      <td>8500</td>\n",
       "      <td>7650.0</td>\n",
       "    </tr>\n",
       "    <tr>\n",
       "      <th>300864</th>\n",
       "      <td>Ford</td>\n",
       "      <td>12800</td>\n",
       "      <td>11520.0</td>\n",
       "    </tr>\n",
       "    <tr>\n",
       "      <th>338367</th>\n",
       "      <td>Ford</td>\n",
       "      <td>14200</td>\n",
       "      <td>12780.0</td>\n",
       "    </tr>\n",
       "    <tr>\n",
       "      <th>268734</th>\n",
       "      <td>Kia</td>\n",
       "      <td>11800</td>\n",
       "      <td>9440.0</td>\n",
       "    </tr>\n",
       "    <tr>\n",
       "      <th>52714</th>\n",
       "      <td>Chrysler</td>\n",
       "      <td>2600</td>\n",
       "      <td>2080.0</td>\n",
       "    </tr>\n",
       "  </tbody>\n",
       "</table>\n",
       "</div>"
      ],
      "text/plain": [
       "             make  sellingprice  Discount Price\n",
       "105773     Toyota          5100          4080.0\n",
       "523485        Ram         28800         23040.0\n",
       "470550        Kia         22000         17600.0\n",
       "404687      Lexus         17400         13920.0\n",
       "160777     Nissan          7900          6320.0\n",
       "175980  Chevrolet          8500          7650.0\n",
       "300864       Ford         12800         11520.0\n",
       "338367       Ford         14200         12780.0\n",
       "268734        Kia         11800          9440.0\n",
       "52714    Chrysler          2600          2080.0"
      ]
     },
     "execution_count": 54,
     "metadata": {},
     "output_type": "execute_result"
    }
   ],
   "source": [
    "print(\"We can check from the below sample data that Ford and Chevrolet are updated with 10% discount value and all others are updated with 20% discout on car values\")\n",
    "df[[\"make\", \"sellingprice\", \"Discount Price\"]].sample(10)"
   ]
  },
  {
   "cell_type": "markdown",
   "metadata": {},
   "source": [
    "### TASK-7"
   ]
  },
  {
   "cell_type": "markdown",
   "metadata": {},
   "source": [
    "Removing columns 'saledate' and 'vin' from dataframe \\\n",
    "Then checking the missing values in the whole dataframe and filling the cells with appropriate values"
   ]
  },
  {
   "cell_type": "code",
   "execution_count": 55,
   "metadata": {},
   "outputs": [
    {
     "data": {
      "text/html": [
       "<div>\n",
       "<style scoped>\n",
       "    .dataframe tbody tr th:only-of-type {\n",
       "        vertical-align: middle;\n",
       "    }\n",
       "\n",
       "    .dataframe tbody tr th {\n",
       "        vertical-align: top;\n",
       "    }\n",
       "\n",
       "    .dataframe thead th {\n",
       "        text-align: right;\n",
       "    }\n",
       "</style>\n",
       "<table border=\"1\" class=\"dataframe\">\n",
       "  <thead>\n",
       "    <tr style=\"text-align: right;\">\n",
       "      <th></th>\n",
       "      <th>year</th>\n",
       "      <th>make</th>\n",
       "      <th>model</th>\n",
       "      <th>trim</th>\n",
       "      <th>body</th>\n",
       "      <th>transmission</th>\n",
       "      <th>state</th>\n",
       "      <th>condition</th>\n",
       "      <th>odometer</th>\n",
       "      <th>color</th>\n",
       "      <th>interior</th>\n",
       "      <th>seller</th>\n",
       "      <th>mmr</th>\n",
       "      <th>sellingprice</th>\n",
       "      <th>Discount Price</th>\n",
       "    </tr>\n",
       "  </thead>\n",
       "  <tbody>\n",
       "    <tr>\n",
       "      <th>298792</th>\n",
       "      <td>2012</td>\n",
       "      <td>Nissan</td>\n",
       "      <td>Altima</td>\n",
       "      <td>2.5 S</td>\n",
       "      <td>Sedan</td>\n",
       "      <td>automatic</td>\n",
       "      <td>fl</td>\n",
       "      <td>3.5</td>\n",
       "      <td>50307.0</td>\n",
       "      <td>black</td>\n",
       "      <td>black</td>\n",
       "      <td>nissan-infiniti lt</td>\n",
       "      <td>11100</td>\n",
       "      <td>12800</td>\n",
       "      <td>10240.0</td>\n",
       "    </tr>\n",
       "    <tr>\n",
       "      <th>339820</th>\n",
       "      <td>2012</td>\n",
       "      <td>Kia</td>\n",
       "      <td>Optima</td>\n",
       "      <td>Hybrid</td>\n",
       "      <td>sedan</td>\n",
       "      <td>automatic</td>\n",
       "      <td>fl</td>\n",
       "      <td>4.3</td>\n",
       "      <td>34321.0</td>\n",
       "      <td>white</td>\n",
       "      <td>black</td>\n",
       "      <td>kia motors finance</td>\n",
       "      <td>13250</td>\n",
       "      <td>14200</td>\n",
       "      <td>11360.0</td>\n",
       "    </tr>\n",
       "    <tr>\n",
       "      <th>446480</th>\n",
       "      <td>2013</td>\n",
       "      <td>Infiniti</td>\n",
       "      <td>G Sedan</td>\n",
       "      <td>G37 Journey</td>\n",
       "      <td>G Sedan</td>\n",
       "      <td>automatic</td>\n",
       "      <td>ca</td>\n",
       "      <td>3.9</td>\n",
       "      <td>28765.0</td>\n",
       "      <td>white</td>\n",
       "      <td>black</td>\n",
       "      <td>nissan infiniti lt</td>\n",
       "      <td>20600</td>\n",
       "      <td>20000</td>\n",
       "      <td>16000.0</td>\n",
       "    </tr>\n",
       "  </tbody>\n",
       "</table>\n",
       "</div>"
      ],
      "text/plain": [
       "        year      make    model         trim     body transmission state  \\\n",
       "298792  2012    Nissan   Altima        2.5 S    Sedan    automatic    fl   \n",
       "339820  2012       Kia   Optima       Hybrid    sedan    automatic    fl   \n",
       "446480  2013  Infiniti  G Sedan  G37 Journey  G Sedan    automatic    ca   \n",
       "\n",
       "        condition  odometer  color interior              seller    mmr  \\\n",
       "298792        3.5   50307.0  black    black  nissan-infiniti lt  11100   \n",
       "339820        4.3   34321.0  white    black  kia motors finance  13250   \n",
       "446480        3.9   28765.0  white    black  nissan infiniti lt  20600   \n",
       "\n",
       "        sellingprice  Discount Price  \n",
       "298792         12800         10240.0  \n",
       "339820         14200         11360.0  \n",
       "446480         20000         16000.0  "
      ]
     },
     "execution_count": 55,
     "metadata": {},
     "output_type": "execute_result"
    }
   ],
   "source": [
    "#Removing 'saledate' and 'vin' from DateFrame 'df'\n",
    "df.drop(['saledate', 'vin'], axis= 1, inplace= True)\n",
    "df.sample(3)"
   ]
  },
  {
   "cell_type": "code",
   "execution_count": 56,
   "metadata": {},
   "outputs": [
    {
     "data": {
      "text/plain": [
       "year                  0\n",
       "make              10301\n",
       "model             10399\n",
       "trim              10651\n",
       "body              13195\n",
       "transmission      65353\n",
       "state                 1\n",
       "condition         11794\n",
       "odometer             94\n",
       "color               749\n",
       "interior            749\n",
       "seller                0\n",
       "mmr                   0\n",
       "sellingprice          0\n",
       "Discount Price        0\n",
       "dtype: int64"
      ]
     },
     "execution_count": 56,
     "metadata": {},
     "output_type": "execute_result"
    }
   ],
   "source": [
    "#Checking for missing values in all the columns\n",
    "df.isnull().sum()"
   ]
  },
  {
   "cell_type": "code",
   "execution_count": 58,
   "metadata": {},
   "outputs": [],
   "source": [
    "#Filling the missing values with mode() values in the 'make', 'model', 'trim', 'body', 'transmission', 'state', 'color', 'interior' columns\n",
    "#Reason: All the above mentioned columns are in Object type (names), we can fill these by most repeated values(by finding the mode())\n",
    "\n",
    "# Column 'make'\n",
    "make_mode = df.make.mode()[0]             #df.make.mode()-->returns series. accessing the first value here.\n",
    "df.make.fillna(make_mode, axis=0, inplace= True)"
   ]
  },
  {
   "cell_type": "code",
   "execution_count": 60,
   "metadata": {},
   "outputs": [],
   "source": [
    "# Column 'model'\n",
    "model_mode = df.model.mode()[0]\n",
    "df.model.fillna(model_mode, axis=0, inplace= True)"
   ]
  },
  {
   "cell_type": "code",
   "execution_count": 62,
   "metadata": {},
   "outputs": [],
   "source": [
    "# Column 'trim'\n",
    "trim_mode = df.trim.mode()[0]\n",
    "df.trim.fillna(trim_mode, axis=0, inplace= True)"
   ]
  },
  {
   "cell_type": "code",
   "execution_count": 64,
   "metadata": {},
   "outputs": [],
   "source": [
    "# Column 'body'\n",
    "body_mode = df.body.mode()[0]\n",
    "df.body.fillna(body_mode, axis=0, inplace=True)"
   ]
  },
  {
   "cell_type": "code",
   "execution_count": 65,
   "metadata": {},
   "outputs": [],
   "source": [
    "# Column 'transmission'\n",
    "transmission_mode = df.transmission.mode()[0]\n",
    "df.transmission.fillna(transmission_mode, axis= 0, inplace=True)"
   ]
  },
  {
   "cell_type": "code",
   "execution_count": 68,
   "metadata": {},
   "outputs": [],
   "source": [
    "# Column 'state'\n",
    "state_mode = df.state.mode()[0]\n",
    "df.state.fillna(state_mode, axis=0, inplace=True)"
   ]
  },
  {
   "cell_type": "code",
   "execution_count": 71,
   "metadata": {},
   "outputs": [],
   "source": [
    "# Column 'color'\n",
    "color_mode = df.color.mode()[0]\n",
    "df.color.fillna(color_mode, axis=0, inplace=True)"
   ]
  },
  {
   "cell_type": "code",
   "execution_count": 69,
   "metadata": {},
   "outputs": [],
   "source": [
    "# Column 'interior'\n",
    "interior_mode = df.interior.mode()[0]\n",
    "df.interior.fillna(interior_mode, axis =0, inplace=True)"
   ]
  },
  {
   "cell_type": "code",
   "execution_count": 75,
   "metadata": {},
   "outputs": [],
   "source": [
    "#Filling the missing values with mean() values in the 'condition' and 'odometer' columns\n",
    "#Reason: All the above mentioned columns are in int/float type, we can fill these by mean, median or mode. Here I have used mean.\n",
    "\n",
    "# Column 'condition'\n",
    "condition_mean = df.condition.mean()\n",
    "df.condition.fillna(condition_mean, axis= 0, inplace= True)"
   ]
  },
  {
   "cell_type": "code",
   "execution_count": 77,
   "metadata": {},
   "outputs": [],
   "source": [
    "# Column 'odometer'\n",
    "odometer_mean = df.odometer.mean()\n",
    "df.odometer.fillna(odometer_mean, axis=0, inplace=True)"
   ]
  },
  {
   "cell_type": "code",
   "execution_count": 79,
   "metadata": {},
   "outputs": [
    {
     "data": {
      "text/plain": [
       "year              0\n",
       "make              0\n",
       "model             0\n",
       "trim              0\n",
       "body              0\n",
       "transmission      0\n",
       "state             0\n",
       "condition         0\n",
       "odometer          0\n",
       "color             0\n",
       "interior          0\n",
       "seller            0\n",
       "mmr               0\n",
       "sellingprice      0\n",
       "Discount Price    0\n",
       "dtype: int64"
      ]
     },
     "execution_count": 79,
     "metadata": {},
     "output_type": "execute_result"
    }
   ],
   "source": [
    "#We can see from below that there are no Blanks column left\n",
    "df.isnull().sum()"
   ]
  }
 ],
 "metadata": {
  "interpreter": {
   "hash": "6aa0003a943059303f65e461c14b984569e675a3ee0f3a9c429e42c8baf74d36"
  },
  "kernelspec": {
   "display_name": "Python 3.7.5 64-bit",
   "language": "python",
   "name": "python3"
  },
  "language_info": {
   "codemirror_mode": {
    "name": "ipython",
    "version": 3
   },
   "file_extension": ".py",
   "mimetype": "text/x-python",
   "name": "python",
   "nbconvert_exporter": "python",
   "pygments_lexer": "ipython3",
   "version": "3.7.5"
  },
  "orig_nbformat": 4
 },
 "nbformat": 4,
 "nbformat_minor": 2
}
